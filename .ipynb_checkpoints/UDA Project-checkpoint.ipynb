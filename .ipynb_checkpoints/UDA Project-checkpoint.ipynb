{
 "cells": [
  {
   "cell_type": "markdown",
   "metadata": {},
   "source": [
    "# What Topics Should Candidates Address in Their 2020 Campaigns?"
   ]
  },
  {
   "cell_type": "code",
   "execution_count": 102,
   "metadata": {
    "scrolled": false
   },
   "outputs": [],
   "source": [
    "import pandas as pd\n",
    "\n",
    "# importing json into pandas dataframe structure\n",
    "proj_df = pd.read_json('combined.json', lines=True)"
   ]
  },
  {
   "cell_type": "code",
   "execution_count": 103,
   "metadata": {},
   "outputs": [],
   "source": [
    "%matplotlib inline\n",
    "import matplotlib.pyplot as plt\n",
    "plt.style.use('seaborn')"
   ]
  },
  {
   "cell_type": "code",
   "execution_count": 104,
   "metadata": {},
   "outputs": [
    {
     "data": {
      "text/html": [
       "<div>\n",
       "<style scoped>\n",
       "    .dataframe tbody tr th:only-of-type {\n",
       "        vertical-align: middle;\n",
       "    }\n",
       "\n",
       "    .dataframe tbody tr th {\n",
       "        vertical-align: top;\n",
       "    }\n",
       "\n",
       "    .dataframe thead th {\n",
       "        text-align: right;\n",
       "    }\n",
       "</style>\n",
       "<table border=\"1\" class=\"dataframe\">\n",
       "  <thead>\n",
       "    <tr style=\"text-align: right;\">\n",
       "      <th></th>\n",
       "      <th>components</th>\n",
       "      <th>contents</th>\n",
       "      <th>date</th>\n",
       "      <th>id</th>\n",
       "      <th>title</th>\n",
       "      <th>topics</th>\n",
       "    </tr>\n",
       "  </thead>\n",
       "  <tbody>\n",
       "    <tr>\n",
       "      <th>0</th>\n",
       "      <td>[National Security Division (NSD)]</td>\n",
       "      <td>PORTLAND, Oregon. – Mohamed Osman Mohamud, 23,...</td>\n",
       "      <td>2014-10-01 04:00:00</td>\n",
       "      <td>None</td>\n",
       "      <td>Convicted Bomb Plotter Sentenced to 30 Years</td>\n",
       "      <td>[]</td>\n",
       "    </tr>\n",
       "    <tr>\n",
       "      <th>1</th>\n",
       "      <td>[Environment and Natural Resources Division]</td>\n",
       "      <td>WASHINGTON – North Carolina’s Waccamaw River...</td>\n",
       "      <td>2012-07-25 04:00:00</td>\n",
       "      <td>12-919</td>\n",
       "      <td>$1 Million in Restitution Payments Announced t...</td>\n",
       "      <td>[]</td>\n",
       "    </tr>\n",
       "    <tr>\n",
       "      <th>2</th>\n",
       "      <td>[Environment and Natural Resources Division]</td>\n",
       "      <td>BOSTON– A $1-million settlement has been...</td>\n",
       "      <td>2011-08-03 04:00:00</td>\n",
       "      <td>11-1002</td>\n",
       "      <td>$1 Million Settlement Reached for Natural Reso...</td>\n",
       "      <td>[]</td>\n",
       "    </tr>\n",
       "    <tr>\n",
       "      <th>3</th>\n",
       "      <td>[Environment and Natural Resources Division]</td>\n",
       "      <td>WASHINGTON—A federal grand jury in Las Vegas...</td>\n",
       "      <td>2010-01-08 05:00:00</td>\n",
       "      <td>10-015</td>\n",
       "      <td>10 Las Vegas Men Indicted \\r\\nfor Falsifying V...</td>\n",
       "      <td>[]</td>\n",
       "    </tr>\n",
       "    <tr>\n",
       "      <th>4</th>\n",
       "      <td>[Environment and Natural Resources Division]</td>\n",
       "      <td>The U.S. Department of Justice, the U.S. Envir...</td>\n",
       "      <td>2018-07-09 04:00:00</td>\n",
       "      <td>18-898</td>\n",
       "      <td>$100 Million Settlement Will Speed Cleanup Wor...</td>\n",
       "      <td>[Environment]</td>\n",
       "    </tr>\n",
       "  </tbody>\n",
       "</table>\n",
       "</div>"
      ],
      "text/plain": [
       "                                     components  \\\n",
       "0            [National Security Division (NSD)]   \n",
       "1  [Environment and Natural Resources Division]   \n",
       "2  [Environment and Natural Resources Division]   \n",
       "3  [Environment and Natural Resources Division]   \n",
       "4  [Environment and Natural Resources Division]   \n",
       "\n",
       "                                            contents                date  \\\n",
       "0  PORTLAND, Oregon. – Mohamed Osman Mohamud, 23,... 2014-10-01 04:00:00   \n",
       "1    WASHINGTON – North Carolina’s Waccamaw River... 2012-07-25 04:00:00   \n",
       "2        BOSTON– A $1-million settlement has been... 2011-08-03 04:00:00   \n",
       "3    WASHINGTON—A federal grand jury in Las Vegas... 2010-01-08 05:00:00   \n",
       "4  The U.S. Department of Justice, the U.S. Envir... 2018-07-09 04:00:00   \n",
       "\n",
       "        id                                              title         topics  \n",
       "0     None       Convicted Bomb Plotter Sentenced to 30 Years             []  \n",
       "1  12-919   $1 Million in Restitution Payments Announced t...             []  \n",
       "2  11-1002  $1 Million Settlement Reached for Natural Reso...             []  \n",
       "3   10-015  10 Las Vegas Men Indicted \\r\\nfor Falsifying V...             []  \n",
       "4   18-898  $100 Million Settlement Will Speed Cleanup Wor...  [Environment]  "
      ]
     },
     "execution_count": 104,
     "metadata": {},
     "output_type": "execute_result"
    }
   ],
   "source": [
    "# this is what our original json file looks like \n",
    "proj_df.head()"
   ]
  },
  {
   "cell_type": "code",
   "execution_count": 105,
   "metadata": {},
   "outputs": [
    {
     "data": {
      "text/plain": [
       "(13087, 6)"
      ]
     },
     "execution_count": 105,
     "metadata": {},
     "output_type": "execute_result"
    }
   ],
   "source": [
    "# there were originally 13,087 rows and 6 columns \n",
    "proj_df.shape"
   ]
  },
  {
   "cell_type": "markdown",
   "metadata": {},
   "source": [
    "**We are focusing only on the last two years (2017 and 2018). So, the next step is to filter our dataset to only those 2 years**"
   ]
  },
  {
   "cell_type": "code",
   "execution_count": 106,
   "metadata": {},
   "outputs": [
    {
     "data": {
      "text/html": [
       "<div>\n",
       "<style scoped>\n",
       "    .dataframe tbody tr th:only-of-type {\n",
       "        vertical-align: middle;\n",
       "    }\n",
       "\n",
       "    .dataframe tbody tr th {\n",
       "        vertical-align: top;\n",
       "    }\n",
       "\n",
       "    .dataframe thead th {\n",
       "        text-align: right;\n",
       "    }\n",
       "</style>\n",
       "<table border=\"1\" class=\"dataframe\">\n",
       "  <thead>\n",
       "    <tr style=\"text-align: right;\">\n",
       "      <th></th>\n",
       "      <th>components</th>\n",
       "      <th>contents</th>\n",
       "      <th>date</th>\n",
       "      <th>id</th>\n",
       "      <th>title</th>\n",
       "      <th>topics</th>\n",
       "    </tr>\n",
       "  </thead>\n",
       "  <tbody>\n",
       "    <tr>\n",
       "      <th>4</th>\n",
       "      <td>[Environment and Natural Resources Division]</td>\n",
       "      <td>The U.S. Department of Justice, the U.S. Envir...</td>\n",
       "      <td>2018-07-09 04:00:00</td>\n",
       "      <td>18-898</td>\n",
       "      <td>$100 Million Settlement Will Speed Cleanup Wor...</td>\n",
       "      <td>[Environment]</td>\n",
       "    </tr>\n",
       "    <tr>\n",
       "      <th>13</th>\n",
       "      <td>[Criminal Division, USAO - Tennessee, Middle]</td>\n",
       "      <td>A 62-count second-superseding indictment was r...</td>\n",
       "      <td>2018-03-08 05:00:00</td>\n",
       "      <td>18-285</td>\n",
       "      <td>19 Members and Associates of Tennessee Mongols...</td>\n",
       "      <td>[]</td>\n",
       "    </tr>\n",
       "    <tr>\n",
       "      <th>15</th>\n",
       "      <td>[National Security Division (NSD), USAO - Cali...</td>\n",
       "      <td>Federal authorities arrested Yi-Chi Shih, 62, ...</td>\n",
       "      <td>2018-01-23 05:00:00</td>\n",
       "      <td>18-78</td>\n",
       "      <td>2 Men Charged With Conspiring to Illegally Obt...</td>\n",
       "      <td>[]</td>\n",
       "    </tr>\n",
       "    <tr>\n",
       "      <th>16</th>\n",
       "      <td>[National Security Division (NSD), USAO - Cali...</td>\n",
       "      <td>Federal authorities arrested Yi-Chi Shih, 62, ...</td>\n",
       "      <td>2018-01-23 05:00:00</td>\n",
       "      <td>18-78</td>\n",
       "      <td>2 Men Charged With Conspiring to Illegally Obt...</td>\n",
       "      <td>[]</td>\n",
       "    </tr>\n",
       "    <tr>\n",
       "      <th>19</th>\n",
       "      <td>[Environment and Natural Resources Division, U...</td>\n",
       "      <td>The United States Attorney’s Office for the Mi...</td>\n",
       "      <td>2017-12-14 05:00:00</td>\n",
       "      <td>17-1419</td>\n",
       "      <td>2017 Southeast Regional Animal Cruelty Prosecu...</td>\n",
       "      <td>[Environment]</td>\n",
       "    </tr>\n",
       "  </tbody>\n",
       "</table>\n",
       "</div>"
      ],
      "text/plain": [
       "                                           components  \\\n",
       "4        [Environment and Natural Resources Division]   \n",
       "13      [Criminal Division, USAO - Tennessee, Middle]   \n",
       "15  [National Security Division (NSD), USAO - Cali...   \n",
       "16  [National Security Division (NSD), USAO - Cali...   \n",
       "19  [Environment and Natural Resources Division, U...   \n",
       "\n",
       "                                             contents                date  \\\n",
       "4   The U.S. Department of Justice, the U.S. Envir... 2018-07-09 04:00:00   \n",
       "13  A 62-count second-superseding indictment was r... 2018-03-08 05:00:00   \n",
       "15  Federal authorities arrested Yi-Chi Shih, 62, ... 2018-01-23 05:00:00   \n",
       "16  Federal authorities arrested Yi-Chi Shih, 62, ... 2018-01-23 05:00:00   \n",
       "19  The United States Attorney’s Office for the Mi... 2017-12-14 05:00:00   \n",
       "\n",
       "         id                                              title         topics  \n",
       "4    18-898  $100 Million Settlement Will Speed Cleanup Wor...  [Environment]  \n",
       "13   18-285  19 Members and Associates of Tennessee Mongols...             []  \n",
       "15    18-78  2 Men Charged With Conspiring to Illegally Obt...             []  \n",
       "16    18-78  2 Men Charged With Conspiring to Illegally Obt...             []  \n",
       "19  17-1419  2017 Southeast Regional Animal Cruelty Prosecu...  [Environment]  "
      ]
     },
     "execution_count": 106,
     "metadata": {},
     "output_type": "execute_result"
    }
   ],
   "source": [
    "# Filter by last two years\n",
    "import datetime as dt\n",
    "\n",
    "proj_df['date'] = pd.to_datetime(proj_df['date'])\n",
    "\n",
    "df_1718 = proj_df[proj_df['date'].dt.year >= 2017] # 2208 rows, nice!\n",
    "df_1718.head()"
   ]
  },
  {
   "cell_type": "markdown",
   "metadata": {},
   "source": [
    "**Now we have 2208 rows and 6 columns. What we wish to do next is merge the 'contents' and 'title' columns to represent the content of each 'document.' The 'contents' and/or 'topics' columns will be considered our true y labels. The 'id' column will be disregarded as we do not believe it adds any value to our analysis.**"
   ]
  },
  {
   "cell_type": "code",
   "execution_count": 107,
   "metadata": {},
   "outputs": [],
   "source": [
    "new_index = list(range(2208))\n",
    "\n",
    "df_1718 = df_1718.set_index([pd.Index(new_index)])"
   ]
  },
  {
   "cell_type": "markdown",
   "metadata": {},
   "source": [
    "## EXPLORING THE DATA"
   ]
  },
  {
   "cell_type": "code",
   "execution_count": 108,
   "metadata": {},
   "outputs": [
    {
     "data": {
      "text/plain": [
       "Text(0, 0.5, 'Raw count')"
      ]
     },
     "execution_count": 108,
     "metadata": {},
     "output_type": "execute_result"
    },
    {
     "data": {
      "image/png": "[encoded data removed]",
      "text/plain": [
       "<Figure size 576x396 with 1 Axes>"
      ]
     },
     "metadata": {},
     "output_type": "display_data"
    }
   ],
   "source": [
    "# Obtaining the frequency table for the components that appears in our data\n",
    "from collections import Counter\n",
    "component_counts = Counter()\n",
    "for elem in df_1718['components']:\n",
    "    for i in range(len(elem)):\n",
    "        component_counts[elem[i]] += 1\n",
    "\n",
    "# Sorting frequency table for histogram\n",
    "from operator import itemgetter\n",
    "sorted_components = sorted(component_counts.items(),\n",
    "                                  reverse=True,\n",
    "                                  key=itemgetter(1))\n",
    "\n",
    "# graphing the top components\n",
    "%matplotlib inline\n",
    "import matplotlib.pyplot as plt\n",
    "plt.style.use('seaborn')\n",
    "\n",
    "num_top_components = 10\n",
    "items = [item for item, count in sorted_components[:num_top_components]]\n",
    "counts = [count for item, count in sorted_components[:num_top_components]]\n",
    "plt.bar(range(num_top_components), counts)\n",
    "plt.xticks(range(num_top_components), items, rotation=45, ha='right')\n",
    "plt.title(\"Top 10 Components\", fontsize = 20)\n",
    "plt.xlabel('Components', fontsize = 16)\n",
    "plt.ylabel('Raw count', fontsize = 16)"
   ]
  },
  {
   "cell_type": "markdown",
   "metadata": {},
   "source": [
    "Next, we will see which months had the most press releases from the DOJ. "
   ]
  },
  {
   "cell_type": "code",
   "execution_count": 109,
   "metadata": {},
   "outputs": [
    {
     "name": "stdout",
     "output_type": "stream",
     "text": [
      "January : 240 articles\n",
      "February : 204 articles\n",
      "March : 244 articles\n",
      "April : 280 articles\n",
      "May : 236 articles\n",
      "June : 255 articles\n",
      "July : 209 articles\n",
      "August : 101 articles\n",
      "September : 103 articles\n",
      "October : 123 articles\n",
      "November : 107 articles\n",
      "December : 106 articles\n"
     ]
    }
   ],
   "source": [
    "import datetime\n",
    "import calendar\n",
    "from operator import itemgetter\n",
    "from collections import Counter\n",
    "\n",
    "date_counts = Counter()\n",
    "month_counts = Counter()\n",
    "year_counts = Counter()\n",
    "\n",
    "# Creates frequency tables for month, year,and month-year \n",
    "for elem in df_1718['date']:\n",
    "    m = [elem.month, elem.strftime(\"%B\")]\n",
    "    y = elem.year\n",
    "    m_y = m[1] + '-' + str(y)\n",
    "    date_counts[m_y] += 1\n",
    "    month_counts[m[0]] += 1\n",
    "    year_counts[y] += 1\n",
    "\n",
    "#sorts month table & prints results\n",
    "sorted_months = sorted(month_counts.items(),\n",
    "                      key=itemgetter(0))\n",
    "\n",
    "for token, count in sorted_months:\n",
    "    print(calendar.month_name[token], \":\", count, 'articles')"
   ]
  },
  {
   "cell_type": "markdown",
   "metadata": {},
   "source": [
    "## PREPARING DATA FOR ANALYSIS"
   ]
  },
  {
   "cell_type": "code",
   "execution_count": 110,
   "metadata": {},
   "outputs": [
    {
     "data": {
      "text/plain": [
       "0    $100 Million Settlement Will Speed Cleanup Wor...\n",
       "1    19 Members and Associates of Tennessee Mongols...\n",
       "2    2 Men Charged With Conspiring to Illegally Obt...\n",
       "3    2 Men Charged With Conspiring to Illegally Obt...\n",
       "4    2017 Southeast Regional Animal Cruelty Prosecu...\n",
       "dtype: object"
      ]
     },
     "execution_count": 110,
     "metadata": {},
     "output_type": "execute_result"
    }
   ],
   "source": [
    "# merging 'title' and 'contents' \n",
    "documents_df = df_1718[\"title\"] + ' ' + df_1718[\"contents\"] \n",
    "\n",
    "documents_df.head()"
   ]
  },
  {
   "cell_type": "code",
   "execution_count": 111,
   "metadata": {},
   "outputs": [
    {
     "data": {
      "text/plain": [
       "2208"
      ]
     },
     "execution_count": 111,
     "metadata": {},
     "output_type": "execute_result"
    }
   ],
   "source": [
    "# converting the df to a list to run topic modeling\n",
    "documents_list = list(documents_df)\n",
    "\n",
    "# confirming number of documents is 2208\n",
    "len(documents_list)"
   ]
  },
  {
   "cell_type": "markdown",
   "metadata": {},
   "source": [
    "## SENTIMENT ANALYSIS"
   ]
  },
  {
   "cell_type": "code",
   "execution_count": 112,
   "metadata": {},
   "outputs": [],
   "source": [
    "import spacy\n",
    "nlp = spacy.load('en', disable=['ner', 'parser', 'tagger'])\n",
    "import re\n",
    "\n",
    "from collections import Counter\n",
    "raw_lemma_cts_nostop = Counter()\n",
    "\n",
    "# Step 2: Then count the number of times each word appears in the corpus (2208 press releases) and build a frequency table.\n",
    "for doc in documents_list:\n",
    "    nlp_doc = nlp(doc)\n",
    "    for token in nlp_doc:\n",
    "        lemmas = token.lemma_.lower()\n",
    "        if re.match('[a-zA-Z]+$', lemmas) and not (nlp.vocab[lemmas].is_stop or token.pos_ == 'PUNCT' or token.pos_ == 'SPACE'):\n",
    "            raw_lemma_cts_nostop[lemmas] += 1"
   ]
  },
  {
   "cell_type": "markdown",
   "metadata": {},
   "source": [
    "Now that we have performed natural language processing on the press releases using spacy, it's time to see which words appeared most frequently. "
   ]
  },
  {
   "cell_type": "code",
   "execution_count": 113,
   "metadata": {},
   "outputs": [
    {
     "name": "stdout",
     "output_type": "stream",
     "text": [
      "rank= 1   attorney : 8978\n",
      "rank= 2   department : 7443\n",
      "rank= 3   district : 6269\n",
      "rank= 4   division : 5781\n",
      "rank= 5   justice : 5514\n",
      "rank= 6   general : 4649\n",
      "rank= 7   assistant : 4362\n",
      "rank= 8   charge : 4117\n",
      "rank= 9   office : 3952\n",
      "rank= 10   criminal : 3853\n",
      "rank= 11   tax : 3851\n",
      "rank= 12   case : 3792\n",
      "rank= 13   law : 3478\n",
      "rank= 14   sentence : 3460\n",
      "rank= 15   federal : 3384\n",
      "rank= 16   fraud : 3292\n",
      "rank= 17   acting : 3070\n",
      "rank= 18   enforcement : 3031\n",
      "rank= 19   guilty : 2995\n",
      "rank= 20   today : 2933\n",
      "rank= 21   united : 2815\n",
      "rank= 22   states : 2704\n",
      "rank= 23   court : 2640\n",
      "rank= 24   year : 2562\n",
      "rank= 25   prison : 2542\n",
      "rank= 26   defendant : 2512\n",
      "rank= 27   use : 2506\n",
      "rank= 28   investigation : 2503\n",
      "rank= 29   service : 2412\n",
      "rank= 30   fbi : 2373\n",
      "rank= 31   include : 2351\n",
      "rank= 32   information : 2315\n",
      "rank= 33   new : 2264\n",
      "rank= 34   trial : 2253\n",
      "rank= 35   pay : 2236\n",
      "rank= 36   indictment : 2205\n",
      "rank= 37   return : 2188\n",
      "rank= 38   provide : 2156\n",
      "rank= 39   state : 2127\n",
      "rank= 40   agent : 2124\n",
      "rank= 41   count : 2019\n",
      "rank= 42   company : 2011\n",
      "rank= 43   crime : 2010\n",
      "rank= 44   file : 2004\n",
      "rank= 45   million : 1998\n",
      "rank= 46   prosecute : 1945\n",
      "rank= 47   victim : 1943\n",
      "rank= 48   conspiracy : 1937\n",
      "rank= 49   special : 1904\n",
      "rank= 50   civil : 1889\n"
     ]
    }
   ],
   "source": [
    "# Step 3: Sort the table and print the top 50 most frequent words, along with their frequencies and ranks.\n",
    "sorted_cts = sorted(raw_lemma_cts_nostop.items(),\n",
    "                                  reverse=True,\n",
    "                                  key=itemgetter(1))\n",
    "\n",
    "# Printing the top 50 most frequent words, their counts (frequencies) and ranks. This table INCLUDES stopwords still. \n",
    "index = 1\n",
    "for lem, count in sorted_cts[:50]:\n",
    "    print(\"rank=\", index, ' ', lem, \":\", count)\n",
    "    index += 1"
   ]
  },
  {
   "cell_type": "markdown",
   "metadata": {},
   "source": [
    "Next, we will plot the top 20 words and their frequencies (raw counts)."
   ]
  },
  {
   "cell_type": "code",
   "execution_count": 114,
   "metadata": {},
   "outputs": [
    {
     "data": {
      "text/plain": [
       "Text(0, 0.5, 'Raw Count')"
      ]
     },
     "execution_count": 114,
     "metadata": {},
     "output_type": "execute_result"
    },
    {
     "data": {
      "image/png": "[encoded data removed]",
      "text/plain": [
       "<Figure size 720x432 with 1 Axes>"
      ]
     },
     "metadata": {},
     "output_type": "display_data"
    }
   ],
   "source": [
    "num_top_words = 20\n",
    "items = [item for item, count in sorted_cts[:num_top_words]]\n",
    "counts = [count for item, count in sorted_cts[:num_top_words]]\n",
    "\n",
    "plt.figure(figsize=(10,6))\n",
    "plt.bar(range(num_top_words), counts)\n",
    "plt.xticks(range(num_top_words), items, rotation=45, ha='right')\n",
    "plt.title(\"Top 20 Words\", fontsize = 20)\n",
    "plt.xlabel('Words', fontsize = 16)\n",
    "plt.ylabel('Raw Count', fontsize = 16)"
   ]
  },
  {
   "cell_type": "markdown",
   "metadata": {},
   "source": [
    "Now, let's take a look at the top words within Tax Division."
   ]
  },
  {
   "cell_type": "markdown",
   "metadata": {},
   "source": [
    "**Before this next part we should get a list of the top 10 topics. Just run a counter and plot by components and/or topics. That way we have something to compare the next part to.**"
   ]
  },
  {
   "cell_type": "markdown",
   "metadata": {},
   "source": [
    "## TOPIC MODELING"
   ]
  },
  {
   "cell_type": "code",
   "execution_count": 132,
   "metadata": {},
   "outputs": [],
   "source": [
    "from sklearn.feature_extraction.text import CountVectorizer\n",
    "\n",
    "# CountVectorizer does tokenization and can remove terms that occur too frequently, not frequently enough, or that are stop words\n",
    "# document frequency (df) means number of documents a word appears in\n",
    "tf_vectorizer = CountVectorizer(max_df=0.95, min_df=50, stop_words='english') #set these based on LDA demo with news reports\n",
    "tf = tf_vectorizer.fit_transform(documents_list)"
   ]
  },
  {
   "cell_type": "code",
   "execution_count": 133,
   "metadata": {},
   "outputs": [
    {
     "name": "stdout",
     "output_type": "stream",
     "text": [
      "The number of unique words in the vocabulary is: 1694\n"
     ]
    }
   ],
   "source": [
    "unique_vocabulary = list(tf_vectorizer.vocabulary_.keys())\n",
    "\n",
    "print(\"The number of unique words in the vocabulary is:\", len(unique_vocabulary)) #cool!"
   ]
  },
  {
   "cell_type": "code",
   "execution_count": 136,
   "metadata": {},
   "outputs": [
    {
     "name": "stdout",
     "output_type": "stream",
     "text": [
      "Wall time: 35.5 s\n"
     ]
    }
   ],
   "source": [
    "%%time\n",
    "num_topics = 10\n",
    "\n",
    "from sklearn.decomposition import LatentDirichletAllocation\n",
    "lda = LatentDirichletAllocation(n_components=num_topics, learning_method='online', random_state=94775)\n",
    "lda.fit(tf)"
   ]
  },
  {
   "cell_type": "code",
   "execution_count": 137,
   "metadata": {},
   "outputs": [
    {
     "data": {
      "text/plain": [
       "(10, 1694)"
      ]
     },
     "execution_count": 137,
     "metadata": {},
     "output_type": "execute_result"
    }
   ],
   "source": [
    "# confirming that we have 10 topics and 1694 words per topic\n",
    "lda.components_.shape"
   ]
  },
  {
   "cell_type": "code",
   "execution_count": 138,
   "metadata": {},
   "outputs": [
    {
     "name": "stdout",
     "output_type": "stream",
     "text": [
      "Displaying the top 10 words per topic and their probabilities within the topic...\n",
      "\n",
      "[Topic 0]\n",
      "immigration : 4.1489 %\n",
      "general : 2.915 %\n",
      "states : 2.3341 %\n",
      "security : 2.2813 %\n",
      "united : 2.1697 %\n",
      "sessions : 1.9585 %\n",
      "justice : 1.9308 %\n",
      "ms : 1.6629 %\n",
      "13 : 1.5526 %\n",
      "law : 1.4212 %\n",
      "\n",
      "[Topic 1]\n",
      "drug : 2.127 %\n",
      "enforcement : 1.5565 %\n",
      "fraud : 1.2982 %\n",
      "justice : 1.1467 %\n",
      "said : 1.1245 %\n",
      "western : 1.0674 %\n",
      "antitrust : 1.04 %\n",
      "drugs : 1.0289 %\n",
      "district : 0.9977 %\n",
      "law : 0.932 %\n",
      "\n",
      "[Topic 2]\n",
      "child : 2.9382 %\n",
      "sexual : 2.4007 %\n",
      "district : 1.9107 %\n",
      "victims : 1.7772 %\n",
      "justice : 1.6359 %\n",
      "children : 1.5519 %\n",
      "trafficking : 1.4258 %\n",
      "case : 1.3663 %\n",
      "pornography : 1.3058 %\n",
      "exploitation : 1.2795 %\n",
      "\n",
      "[Topic 3]\n",
      "health : 2.9936 %\n",
      "fraud : 2.4336 %\n",
      "medicare : 2.3693 %\n",
      "care : 2.0467 %\n",
      "claims : 1.9286 %\n",
      "services : 1.6592 %\n",
      "million : 1.4197 %\n",
      "office : 1.3738 %\n",
      "false : 1.3028 %\n",
      "general : 1.1389 %\n",
      "\n",
      "[Topic 4]\n",
      "district : 1.8597 %\n",
      "criminal : 1.7293 %\n",
      "guilty : 1.6286 %\n",
      "division : 1.4546 %\n",
      "assistant : 1.2991 %\n",
      "case : 1.2565 %\n",
      "office : 1.2498 %\n",
      "fraud : 1.1646 %\n",
      "indictment : 1.1531 %\n",
      "fbi : 0.9788 %\n",
      "\n",
      "[Topic 5]\n",
      "justice : 3.4425 %\n",
      "rights : 1.9174 %\n",
      "national : 1.4379 %\n",
      "division : 1.4004 %\n",
      "general : 1.387 %\n",
      "civil : 1.2827 %\n",
      "victims : 1.1716 %\n",
      "office : 1.1641 %\n",
      "discrimination : 1.1367 %\n",
      "housing : 1.0985 %\n",
      "\n",
      "[Topic 6]\n",
      "justice : 1.5116 %\n",
      "district : 1.1484 %\n",
      "company : 1.1005 %\n",
      "division : 1.0308 %\n",
      "states : 1.0074 %\n",
      "court : 1.0025 %\n",
      "settlement : 0.9625 %\n",
      "act : 0.9438 %\n",
      "complaint : 0.9282 %\n",
      "civil : 0.877 %\n",
      "\n",
      "[Topic 7]\n",
      "tax : 5.4412 %\n",
      "division : 2.124 %\n",
      "irs : 2.1154 %\n",
      "returns : 1.6219 %\n",
      "assistant : 1.4309 %\n",
      "prison : 1.1865 %\n",
      "income : 1.1335 %\n",
      "deputy : 1.1091 %\n",
      "general : 1.1053 %\n",
      "acting : 1.0891 %\n",
      "\n",
      "[Topic 8]\n",
      "sentence : 1.8468 %\n",
      "district : 1.7461 %\n",
      "prison : 1.4395 %\n",
      "years : 1.3273 %\n",
      "gang : 1.2064 %\n",
      "members : 1.1055 %\n",
      "isis : 1.078 %\n",
      "months : 1.0724 %\n",
      "imprisonment : 1.0381 %\n",
      "distribute : 0.9718 %\n",
      "\n",
      "[Topic 9]\n",
      "law : 3.0708 %\n",
      "enforcement : 2.1757 %\n",
      "federal : 2.1373 %\n",
      "said : 1.7938 %\n",
      "justice : 1.7474 %\n",
      "officers : 1.712 %\n",
      "rights : 1.6392 %\n",
      "fbi : 1.5218 %\n",
      "police : 1.4864 %\n",
      "civil : 1.4207 %\n",
      "\n"
     ]
    }
   ],
   "source": [
    "# obtaining the distribution of words for each topic\n",
    "import numpy as np\n",
    "topic_word_distributions = np.array([topic_word_pseudocounts / np.sum(topic_word_pseudocounts)\n",
    "                                     for topic_word_pseudocounts in lda.components_])\n",
    "\n",
    "num_top_words = 10\n",
    "\n",
    "print('Displaying the top %d words per topic and their probabilities within the topic...' % num_top_words)\n",
    "print()\n",
    "\n",
    "for topic_idx in range(num_topics):\n",
    "    print('[Topic ', topic_idx, ']', sep='')\n",
    "    sort_indices = np.argsort(topic_word_distributions[topic_idx])[::-1]\n",
    "    for rank in range(num_top_words):\n",
    "        word_idx = sort_indices[rank]\n",
    "        print(tf_vectorizer.get_feature_names()[word_idx], ':', round(topic_word_distributions[topic_idx, word_idx]*100,4),\"%\")\n",
    "    print()"
   ]
  },
  {
   "cell_type": "markdown",
   "metadata": {},
   "source": [
    "We are thrilled by the results. We can clearly see distinct topics as follows:\n",
    "\n",
    " - Topic 0 refers to immigration issues, push factors such as gangs in Central American countries (i.e. MS13) and border security.\n",
    " - Topic 1 refers to drug issues and enforcement of drug laws. This topic likely correlates to Topic 0 on border security.\n",
    " - Topic 2 discusses sex trafficking and other sexual crimes.\n",
    " - Topic 3 is related to healthcare.\n",
    " - Topic 4 refers to crime more generally and the recent indictments around various groups (i.e. FBI).\n",
    " - Topic 5 corresponds to civil rights, justice and discrimination.\n",
    " - Topic 6 is again more general and discusses settlements.\n",
    " - Topic 7 refers to taxation, income and the IRS.\n",
    " - Topic 8 corresponds to harsh crimes involving prison.\n",
    " - Topic 9 discusses law enforcement and clashes with civil rights."
   ]
  },
  {
   "cell_type": "markdown",
   "metadata": {},
   "source": [
    "In a previous iteration, I feel like I saw an environment-related topic. But I am not seeing it now..."
   ]
  },
  {
   "cell_type": "markdown",
   "metadata": {},
   "source": [
    "## Visualizing the document-topic proportion matrix in 2-D using t-SNE"
   ]
  },
  {
   "cell_type": "code",
   "execution_count": 121,
   "metadata": {},
   "outputs": [],
   "source": [
    "lda.fit(tf)\n",
    "doc_topic_distribs = lda.transform(tf)"
   ]
  },
  {
   "cell_type": "code",
   "execution_count": 122,
   "metadata": {},
   "outputs": [
    {
     "data": {
      "text/plain": [
       "(2208, 10)"
      ]
     },
     "execution_count": 122,
     "metadata": {},
     "output_type": "execute_result"
    }
   ],
   "source": [
    "doc_topic_distribs.shape # now we have the matrix of 2208 documents by the 10 topics"
   ]
  },
  {
   "cell_type": "code",
   "execution_count": 123,
   "metadata": {},
   "outputs": [],
   "source": [
    "prob_topic_assign = []\n",
    "for app in doc_topic_distribs:\n",
    "    prob = app.argmax()\n",
    "    prob_topic_assign.append(prob)"
   ]
  },
  {
   "cell_type": "code",
   "execution_count": 124,
   "metadata": {},
   "outputs": [
    {
     "name": "stdout",
     "output_type": "stream",
     "text": [
      "Wall time: 21.3 s\n"
     ]
    }
   ],
   "source": [
    "%%time\n",
    "from sklearn.manifold import TSNE\n",
    "\n",
    "# takes a minute to run, using settings used in homework 2\n",
    "tsne = TSNE(n_components=2, random_state=94775, init='pca', angle=0.99)  \n",
    "doc_topic_prop_tsne_2d = tsne.fit_transform(doc_topic_distribs)"
   ]
  },
  {
   "cell_type": "code",
   "execution_count": 125,
   "metadata": {},
   "outputs": [
    {
     "data": {
      "image/png": "[encoded data removed]",
      "text/plain": [
       "<Figure size 576x396 with 1 Axes>"
      ]
     },
     "metadata": {},
     "output_type": "display_data"
    }
   ],
   "source": [
    "import seaborn as sns\n",
    "ax = sns.scatterplot(x=doc_topic_prop_tsne_2d[:, 0], y=doc_topic_prop_tsne_2d[:, 1], hue=prob_topic_assign, legend=\"full\",\n",
    "                    palette=\"Spectral\")\n",
    "plt.legend(title=\"Topics\")\n",
    "plt.title(\"tSNE Plot of Press Releases Across the Ten Topics\")\n",
    "plt.show()"
   ]
  },
  {
   "cell_type": "markdown",
   "metadata": {},
   "source": [
    "Press releases most likely to fall in topic 2 appear to be easily clustered and separated from other topics. This is not surprising since this topic seems to clearly refer to sex trafficking. This topic is not as connected to other topics. Additionally, topic 7 is pretty clearly separate from the other topics. This is also not surprising since it quite clearly refers to taxation. \n",
    "\n",
    "Topic 9 seems to mix with other topics in the plot. This is not surprising either since it is a bit more general, encompassing law enforcement and rights."
   ]
  },
  {
   "cell_type": "markdown",
   "metadata": {},
   "source": [
    "## CLUSTERING THE PRESS RELEASES"
   ]
  },
  {
   "cell_type": "markdown",
   "metadata": {},
   "source": [
    "**Trying some Gaussian Mixture Modeling**"
   ]
  },
  {
   "cell_type": "code",
   "execution_count": 126,
   "metadata": {},
   "outputs": [],
   "source": []
  },
  {
   "cell_type": "code",
   "execution_count": null,
   "metadata": {},
   "outputs": [],
   "source": [
    "%%time\n",
    "from sklearn.metrics import calinski_harabaz_score\n",
    "from sklearn.mixture import GaussianMixture\n",
    "\n",
    "best_score = -np.inf\n",
    "best_k = None\n",
    "best_model = None\n",
    "best_cluster_assignments = None\n",
    "\n",
    "# see which number of clusters has highest CH index\n",
    "for k in range(2, 6):\n",
    "    candidate_gmm = GaussianMixture(n_components=k, n_init=100, random_state=94775)\n",
    "    candidate_gmm.fit(X)\n",
    "    cluster_assignments = candidate_gmm.predict(X)\n",
    "    score = calinski_harabaz_score(X, cluster_assignments)\n",
    "    \n",
    "    print('k =', k, 'has CH index', score)\n",
    "    \n",
    "    if score > best_score:\n",
    "        best_score = score\n",
    "        best_k = k\n",
    "        best_model = candidate_gmm\n",
    "        best_cluster_assignments = cluster_assignments\n",
    "    \n",
    "print('Best k within 2, 3, ..., 10 according to CH index:', best_k)"
   ]
  },
  {
   "cell_type": "code",
   "execution_count": null,
   "metadata": {},
   "outputs": [],
   "source": [
    "from collections import Counter\n",
    "assignments = Counter()\n",
    "\n",
    "# looping over each cluster assignment\n",
    "# counting the number of assignments per cluster\n",
    "for item in list(best_cluster_assignments):\n",
    "        assignments[item] += 1 \n",
    "\n",
    "# printing the number of documents assigned to each cluster\n",
    "print(\"Cluster\", \"# of Documents\")\n",
    "for k, v in assignments.items(): \n",
    "    print(str(k).ljust(10), str(v))"
   ]
  },
  {
   "cell_type": "markdown",
   "metadata": {},
   "source": [
    "**A couple of ideas that i'd like to try... we can pick a word we think would best characterize the top n clusters and then use Professor Chen's homework 2 histogram idea (like spam vs ham) to see which word falls to what extent in which cluster. Next I shall try tsne**"
   ]
  },
  {
   "cell_type": "code",
   "execution_count": null,
   "metadata": {},
   "outputs": [],
   "source": [
    "get_indexes = lambda x, xs: [i for (y, i) in zip(xs, range(len(xs))) if x == y]\n",
    "cluster0 = get_indexes(0,best_cluster_assignments)\n",
    "cluster1 = get_indexes(1,best_cluster_assignments)"
   ]
  },
  {
   "cell_type": "code",
   "execution_count": null,
   "metadata": {},
   "outputs": [],
   "source": [
    "comp_cluster0 = Counter()\n",
    "comp_cluster1 = Counter()\n",
    "\n",
    "for i in df_1718.loc[cluster0, \"components\"]:\n",
    "    for j in i:\n",
    "        comp_cluster0[j]+=1\n",
    "        \n",
    "for i in df_1718.loc[cluster1, \"components\"]:\n",
    "    for j in i:\n",
    "        comp_cluster1[j]+=1\n",
    "\n",
    "from operator import itemgetter\n",
    "sorted_cluster0 = sorted(comp_cluster0.items(),\n",
    "                                  reverse=True,\n",
    "                                  key=itemgetter(1))\n",
    "\n",
    "sorted_cluster1 = sorted(comp_cluster1.items(),\n",
    "                                  reverse=True,\n",
    "                                  key=itemgetter(1))\n",
    "\n",
    "\n",
    "print(\"Top 10 Components in Cluster 0:\")\n",
    "for k, v in sorted_cluster0[0:10]: \n",
    "    print(str(k).ljust(55), str(v))\n",
    "\n",
    "print( )\n",
    "\n",
    "print(\"Top 10 Components in Cluster 1:\")\n",
    "for k, v in sorted_cluster1[0:10]: \n",
    "    print(str(k).ljust(55), str(v))\n",
    "    "
   ]
  },
  {
   "cell_type": "markdown",
   "metadata": {},
   "source": [
    "**Trying out PCA**"
   ]
  },
  {
   "cell_type": "code",
   "execution_count": null,
   "metadata": {},
   "outputs": [],
   "source": [
    "from sklearn.decomposition import PCA\n",
    "pca = PCA(n_components=2)\n",
    "X_2d = pca.fit_transform(X)"
   ]
  },
  {
   "cell_type": "code",
   "execution_count": null,
   "metadata": {},
   "outputs": [],
   "source": [
    "pca.explained_variance_ratio_\n",
    "#very little explained"
   ]
  },
  {
   "cell_type": "code",
   "execution_count": null,
   "metadata": {},
   "outputs": [],
   "source": [
    "plt.scatter(X_2d[:, 0], X_2d[:, 1], c=best_cluster_assignments, cmap='Spectral')\n",
    "plt.axis('equal')"
   ]
  },
  {
   "cell_type": "markdown",
   "metadata": {},
   "source": [
    "**Trying out basic t-sne. Would need to play around with this more.**"
   ]
  },
  {
   "cell_type": "markdown",
   "metadata": {},
   "source": [
    "## TSNE"
   ]
  },
  {
   "cell_type": "code",
   "execution_count": null,
   "metadata": {},
   "outputs": [],
   "source": [
    "from sklearn.manifold import TSNE\n",
    "\n",
    "tsne = TSNE(n_components=2, random_state=94775)  # note: in practice you should actually play with the perplexity, learning rate, and number of iterations\n",
    "X_tsne2d = tsne.fit_transform(X)"
   ]
  },
  {
   "cell_type": "code",
   "execution_count": null,
   "metadata": {},
   "outputs": [],
   "source": [
    "plt.scatter(X_tsne2d[:, 0], X_tsne2d[:, 1], c=best_cluster_assignments, cmap='Spectral')\n",
    "plt.axis('equal')"
   ]
  }
 ],
 "metadata": {
  "kernelspec": {
   "display_name": "Python 3",
   "language": "python",
   "name": "python3"
  },
  "language_info": {
   "codemirror_mode": {
    "name": "ipython",
    "version": 3
   },
   "file_extension": ".py",
   "mimetype": "text/x-python",
   "name": "python",
   "nbconvert_exporter": "python",
   "pygments_lexer": "ipython3",
   "version": "3.6.8"
  }
 },
 "nbformat": 4,
 "nbformat_minor": 2
}
